%reload_ext autoreload
%autoreload 2
import tomopyui.widgets.main as main
dashboard_output, dashboard, file_import, prep, center, align, recon, dataexplorer = main.create_dashboard("APS_2BM") # can be "SSRL_62C", "ALS_832", "APS"
dashboard_output





import dxchange.reader
dxchange.reader.read_hdf_meta(r"E:\Sam_Welborn\20220620_Welborn\Pristine\all_energies\all_energies.hdf5", True)


from tomopyui.widgets.view import BqImViewer_Projections_Parent
# a = BqImViewer_Projections_Parent()
# a.plot(high_e, ds=False,no_check=True)
b = BqImViewer_Projections_Parent()
b.plot(low_e, ds=False,no_check=True)

from ipywidgets import HBox
b.create_app()
HBox([b.app])


import tomopyui.backend.io
import tomopyui.widgets.imports
import tomopyui.widgets.view


import tomopyui.backend.runanalysis
import tomopyui.widgets.analysis
import tomopyui.tomocupy.prep.alignment


import dxchange
file_import.prenorm_uploader.projections._load_hdf_normalized_data_into_memory()
data = file_import.prenorm_uploader.projections.data
filepath = str(file_import.prenorm_uploader.projections.filedir / "tiffs" / "data.tiff")
dxchange.writer.write_tiff_stack(data, fname=filepath, dtype=None, axis=0, digit=4, start=0, overwrite=False)


file_import.prenorm_uploader.projections.filedir


from tomopyui.widgets.tools import TwoEnergyTool
a = TwoEnergyTool()
a.two_e_shift_box



