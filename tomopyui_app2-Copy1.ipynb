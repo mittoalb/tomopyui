{
 "cells": [
  {
   "cell_type": "code",
   "execution_count": 1,
   "id": "2ab4bfd4-e0b6-41f1-99b8-8b5a77fa0e29",
   "metadata": {
    "tags": []
   },
   "outputs": [
    {
     "name": "stderr",
     "output_type": "stream",
     "text": [
      "Warning: dxfile module not found\n",
      "spefile module not found\n",
      "EdfFile module not found\n",
      "spefile module not found\n",
      "EdfFile module not found\n"
     ]
    },
    {
     "data": {
      "application/vnd.jupyter.widget-view+json": {
       "model_id": "0a9b98a3c3d54e29b5980357af12edfc",
       "version_major": 2,
       "version_minor": 0
      },
      "text/plain": [
       "Output()"
      ]
     },
     "execution_count": 1,
     "metadata": {},
     "output_type": "execute_result"
    }
   ],
   "source": [
    "%reload_ext autoreload\n",
    "%autoreload 2\n",
    "import tomopyui.widgets.main as main\n",
    "dashboard_output, dashboard, file_import, prep, center, align, recon, dataexplorer = main.create_dashboard(\"APS_2BM\") # can be \"SSRL_62C\", \"ALS_832\", \"APS\"\n",
    "dashboard_output"
   ]
  },
  {
   "cell_type": "code",
   "execution_count": 7,
   "id": "2dba5ab8-8c1d-4980-983a-6191bc5f74df",
   "metadata": {},
   "outputs": [],
   "source": []
  },
  {
   "cell_type": "code",
   "execution_count": 4,
   "id": "009da99d-8f72-43f9-a7a3-af5a70be04ec",
   "metadata": {},
   "outputs": [
    {
     "data": {
      "text/plain": [
       "(deque([' energies',\n",
       "        '    │',\n",
       "        '    ├── 07660.00',\n",
       "        '    │   └── init_shifted (361, 1046, 1114)',\n",
       "        '    ├── 07670.00',\n",
       "        '    │   └── init_shifted (361, 1046, 1114)',\n",
       "        '    ├── 07680.00',\n",
       "        '    │   └── init_shifted (361, 1046, 1114)',\n",
       "        '    ├── 07690.00',\n",
       "        '    │   └── init_shifted (361, 1046, 1114)',\n",
       "        '    ├── 07700.00',\n",
       "        '    │   └── init_shifted (361, 1046, 1114)',\n",
       "        '    ├── 07710.00',\n",
       "        '    │   └── init_shifted (361, 1046, 1114)',\n",
       "        '    ├── 07715.00',\n",
       "        '    │   └── init_shifted (361, 1046, 1114)',\n",
       "        '    ├── 07716.00',\n",
       "        '    │   └── init_shifted (361, 1046, 1114)',\n",
       "        '    ├── 07717.00',\n",
       "        '    │   └── init_shifted (361, 1046, 1114)',\n",
       "        '    ├── 07718.00',\n",
       "        '    │   └── init_shifted (361, 1046, 1114)',\n",
       "        '    ├── 07719.00',\n",
       "        '    │   └── init_shifted (361, 1046, 1114)',\n",
       "        '    ├── 07720.00',\n",
       "        '    │   └── init_shifted (361, 1046, 1114)',\n",
       "        '    ├── 07721.00',\n",
       "        '    │   └── init_shifted (361, 1046, 1114)',\n",
       "        '    ├── 07722.00',\n",
       "        '    │   └── init_shifted (361, 1046, 1114)',\n",
       "        '    ├── 07723.00',\n",
       "        '    │   └── init_shifted (361, 1046, 1114)',\n",
       "        '    ├── 07724.00',\n",
       "        '    │   └── init_shifted (361, 1046, 1114)',\n",
       "        '    ├── 07725.00',\n",
       "        '    │   └── init_shifted (361, 1046, 1114)',\n",
       "        '    ├── 07726.00',\n",
       "        '    │   └── init_shifted (361, 1046, 1114)',\n",
       "        '    ├── 07727.00',\n",
       "        '    │   └── init_shifted (361, 1046, 1114)',\n",
       "        '    ├── 07728.00',\n",
       "        '    │   └── init_shifted (361, 1046, 1114)',\n",
       "        '    ├── 07729.00',\n",
       "        '    │   └── init_shifted (361, 1046, 1114)',\n",
       "        '    ├── 07730.00',\n",
       "        '    │   └── init_shifted (361, 1046, 1114)',\n",
       "        '    ├── 07731.00',\n",
       "        '    │   └── init_shifted (361, 1046, 1114)',\n",
       "        '    ├── 07732.00',\n",
       "        '    │   └── init_shifted (361, 1046, 1114)',\n",
       "        '    ├── 07733.00',\n",
       "        '    │   └── init_shifted (361, 1046, 1114)',\n",
       "        '    ├── 07734.00',\n",
       "        '    │   └── init_shifted (361, 1046, 1114)',\n",
       "        '    ├── 07735.00',\n",
       "        '    │   └── init_shifted (361, 1046, 1114)',\n",
       "        '    ├── 07736.00',\n",
       "        '    │   └── init_shifted (361, 1046, 1114)',\n",
       "        '    ├── 07737.00',\n",
       "        '    │   └── init_shifted (361, 1046, 1114)',\n",
       "        '    ├── 07738.00',\n",
       "        '    │   └── init_shifted (361, 1046, 1114)',\n",
       "        '    ├── 07739.00',\n",
       "        '    │   └── init_shifted (361, 1046, 1114)',\n",
       "        '    ├── 07740.00',\n",
       "        '    │   └── init_shifted (361, 1046, 1114)',\n",
       "        '    ├── 07775.00',\n",
       "        '    │   └── init_shifted (361, 1046, 1114)',\n",
       "        '    ├── 07975.00',\n",
       "        '    │   └── init_shifted (361, 1046, 1114)',\n",
       "        '    ├── 08175.00',\n",
       "        '    │   └── init_shifted (361, 1046, 1114)',\n",
       "        '    └── 08375.00',\n",
       "        '        └── init_shifted (361, 1046, 1114)']),\n",
       " {})"
      ]
     },
     "execution_count": 4,
     "metadata": {},
     "output_type": "execute_result"
    }
   ],
   "source": [
    "import dxchange.reader\n",
    "dxchange.reader.read_hdf_meta(r\"E:\\Sam_Welborn\\20220620_Welborn\\Pristine\\all_energies\\all_energies.hdf5\", True)"
   ]
  },
  {
   "cell_type": "code",
   "execution_count": 8,
   "id": "00aae853-511f-4539-b746-a87c5ef17dbf",
   "metadata": {},
   "outputs": [
    {
     "data": {
      "application/vnd.jupyter.widget-view+json": {
       "model_id": "250ac86d5c2e4461bf5181d1b8176c21",
       "version_major": 2,
       "version_minor": 0
      },
      "text/plain": [
       "HBox(children=(VBox(children=(HBox(children=(Dropdown(description='Viewer binning: ', options=(('Original', -1…"
      ]
     },
     "execution_count": 8,
     "metadata": {},
     "output_type": "execute_result"
    }
   ],
   "source": [
    "from tomopyui.widgets.view import BqImViewer_Projections_Parent\n",
    "# a = BqImViewer_Projections_Parent()\n",
    "# a.plot(high_e, ds=False,no_check=True)\n",
    "b = BqImViewer_Projections_Parent()\n",
    "b.plot(low_e, ds=False,no_check=True)\n",
    "\n",
    "from ipywidgets import HBox\n",
    "b.create_app()\n",
    "HBox([b.app])"
   ]
  },
  {
   "cell_type": "code",
   "execution_count": 4,
   "id": "f6cd6668-3fa5-4e22-844e-ae3cf52e0fd7",
   "metadata": {},
   "outputs": [],
   "source": [
    "import tomopyui.backend.io\n",
    "import tomopyui.widgets.imports\n",
    "import tomopyui.widgets.view"
   ]
  },
  {
   "cell_type": "code",
   "execution_count": null,
   "id": "ff8ba9ff-5618-4ee6-bcb3-e7e33328a6dc",
   "metadata": {},
   "outputs": [],
   "source": [
    "import tomopyui.backend.runanalysis\n",
    "import tomopyui.widgets.analysis\n",
    "import tomopyui.tomocupy.prep.alignment"
   ]
  },
  {
   "cell_type": "code",
   "execution_count": 5,
   "id": "19601721-d85f-42b3-867c-9addfe9ffbab",
   "metadata": {},
   "outputs": [],
   "source": [
    "import dxchange\n",
    "file_import.prenorm_uploader.projections._load_hdf_normalized_data_into_memory()\n",
    "data = file_import.prenorm_uploader.projections.data\n",
    "filepath = str(file_import.prenorm_uploader.projections.filedir / \"tiffs\" / \"data.tiff\")\n",
    "dxchange.writer.write_tiff_stack(data, fname=filepath, dtype=None, axis=0, digit=4, start=0, overwrite=False)"
   ]
  },
  {
   "cell_type": "code",
   "execution_count": 4,
   "id": "c04efcb7-6500-49b1-bdd0-7656cd48ccdd",
   "metadata": {},
   "outputs": [
    {
     "data": {
      "text/plain": [
       "WindowsPath('D:/1C_600cyc/hand_aligned_8353eV/8353.00eV/20220612-1843-alignment/20220612-1843-SIRT_3D')"
      ]
     },
     "execution_count": 4,
     "metadata": {},
     "output_type": "execute_result"
    }
   ],
   "source": [
    "file_import.prenorm_uploader.projections.filedir"
   ]
  },
  {
   "cell_type": "code",
   "execution_count": 2,
   "id": "e91d741a-cd90-46b1-9482-a4407d990519",
   "metadata": {
    "collapsed": true,
    "jupyter": {
     "outputs_hidden": true
    },
    "tags": []
   },
   "outputs": [
    {
     "data": {
      "application/vnd.jupyter.widget-view+json": {
       "model_id": "49c1cdcbd50f436e95934fd25bf67e2d",
       "version_major": 2,
       "version_minor": 0
      },
      "text/plain": [
       "VBox(children=(HBox(children=(VBox(children=(Label(value='Quick path search:'), HBox(children=(Textarea(value=…"
      ]
     },
     "execution_count": 2,
     "metadata": {},
     "output_type": "execute_result"
    }
   ],
   "source": [
    "from tomopyui.widgets.tools import TwoEnergyTool\n",
    "a = TwoEnergyTool()\n",
    "a.two_e_shift_box"
   ]
  },
  {
   "cell_type": "code",
   "execution_count": null,
   "id": "f28e17ca-80e2-430c-9355-94b988d70bdc",
   "metadata": {},
   "outputs": [],
   "source": []
  }
 ],
 "metadata": {
  "kernelspec": {
   "display_name": "tomopy",
   "language": "python",
   "name": "tomopy"
  },
  "language_info": {
   "codemirror_mode": {
    "name": "ipython",
    "version": 3
   },
   "file_extension": ".py",
   "mimetype": "text/x-python",
   "name": "python",
   "nbconvert_exporter": "python",
   "pygments_lexer": "ipython3",
   "version": "3.10.12"
  }
 },
 "nbformat": 4,
 "nbformat_minor": 5
}
